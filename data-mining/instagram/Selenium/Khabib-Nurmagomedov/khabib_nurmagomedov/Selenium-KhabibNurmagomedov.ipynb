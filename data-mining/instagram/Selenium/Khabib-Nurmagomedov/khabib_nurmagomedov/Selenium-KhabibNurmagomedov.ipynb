{
 "cells": [
  {
   "cell_type": "code",
   "execution_count": 1,
   "metadata": {
    "tags": []
   },
   "outputs": [
    {
     "output_type": "stream",
     "name": "stdout",
     "text": "/home/broilo/Documents/GitHub/Dataset/UFC-project/data-mining/instagram/Selenium/Khabib-Nurmagomedov/khabib_nurmagomedov\n"
    }
   ],
   "source": [
    "import os\n",
    "print(os.getcwd())"
   ]
  },
  {
   "cell_type": "code",
   "execution_count": 11,
   "metadata": {},
   "outputs": [],
   "source": [
    "path = '/home/broilo/Documents/GitHub/Dataset/UFC-project/data-mining/instagram/Selenium/Khabib-Nurmagomedov/khabib_nurmagomedov/'"
   ]
  },
  {
   "cell_type": "code",
   "execution_count": 3,
   "metadata": {},
   "outputs": [],
   "source": [
    "from selenium import webdriver\n",
    "from bs4 import BeautifulSoup as bs\n",
    "import time\n",
    "import re\n",
    "from urllib.request import urlopen\n",
    "import json\n",
    "from pandas.io.json import json_normalize\n",
    "import pandas as pd, numpy as np"
   ]
  },
  {
   "cell_type": "code",
   "execution_count": 5,
   "metadata": {},
   "outputs": [],
   "source": [
    "#!pip install selenium"
   ]
  },
  {
   "cell_type": "code",
   "execution_count": 4,
   "metadata": {},
   "outputs": [],
   "source": [
    "username = 'khabib_nurmagomedov'\n",
    "browser = webdriver.Chrome('/usr/bin/chromedriver')\n",
    "browser.get('https://www.instagram.com/'+username+'/?hl=en')\n",
    "Pagelength = browser.execute_script(\"window.scrollTo(0, document.body.scrollHeight);\")"
   ]
  },
  {
   "cell_type": "code",
   "execution_count": 5,
   "metadata": {},
   "outputs": [],
   "source": [
    "#Extract links from user profile page\n",
    "links = ['https://www.instagram.com/p/CD6ic6bscKo/']\n",
    "source = browser.page_source\n",
    "data = bs(source, 'html.parser')\n",
    "body = data.find('body')\n",
    "script = body.find('script', text = lambda t: t.startswith('window._sharedData'))\n",
    "page_json = script.text.split(' = ', 1)[1].rstrip(';')\n",
    "data = json.loads(page_json)\n",
    "#try 'script.string' instead of script.text if you get error on index out of range\n",
    "for link in data['entry_data']['ProfilePage'][0]['graphql']['user']['edge_owner_to_timeline_media']['edges']:\n",
    "    links.append('https://www.instagram.com'+'/p/'+link['node']['shortcode']+'/')\n",
    "#try with ['display_url'] instead of ['shortcode'] if you don't get links "
   ]
  },
  {
   "cell_type": "code",
   "execution_count": 6,
   "metadata": {},
   "outputs": [
    {
     "output_type": "execute_result",
     "data": {
      "text/plain": "{'node': {'__typename': 'GraphImage',\n  'id': '2370502025951759679',\n  'shortcode': 'CDltwh8Ms0_',\n  'dimensions': {'height': 1080, 'width': 1080},\n  'display_url': 'https://instagram.fpet1-1.fna.fbcdn.net/v/t51.2885-15/e35/s1080x1080/117077353_1662910650533960_8533852559924300796_n.jpg?_nc_ht=instagram.fpet1-1.fna.fbcdn.net&_nc_cat=1&_nc_ohc=CchOnXClqC0AX_ppArv&oh=d37444bd02253af9996e10bf09c76ee8&oe=5F67BA80',\n  'edge_media_to_tagged_user': {'edges': []},\n  'fact_check_overall_rating': None,\n  'fact_check_information': None,\n  'gating_info': None,\n  'media_overlay_info': None,\n  'media_preview': 'ACoq06XFRCVP7w/MUyW7jhXexyBjpyeau5FixikNKHVhkEYPvSE07iG0lIWpN1AiZbcDqc/hWZqBw2wY2gDI4GT15xzxWzmsTWlLGMA4+9/SsdzbYdBcZVlbBY4I9QOQfp0yPY1KsrL6H681m2SkLnJx2B/X/Jq905FUIvJcI3DAKfpxU+V9qyKMClYDbxisLV5gwCgjKk59e3T2rbfpWDqajcTgZ+X+VJb2GMtnygX+6MZ7VaFNAAGBxThVCFXAPzcipfsrnpgjsc9ahNJk1Lv0A//Z',\n  'owner': {'id': '271229086', 'username': 'khabib_nurmagomedov'},\n  'is_video': False,\n  'accessibility_caption': 'Photo by Khabib Nurmagomedov on August 07, 2020. Image may contain: one or more people, motorcycle and outdoor',\n  'edge_media_to_caption': {'edges': [{'node': {'text': '+42 🚴\\u200d♂️'}}]},\n  'edge_media_to_comment': {'count': 5778},\n  'comments_disabled': False,\n  'taken_at_timestamp': 1596805884,\n  'edge_liked_by': {'count': 1006117},\n  'edge_media_preview_like': {'count': 1006117},\n  'location': None,\n  'thumbnail_src': 'https://instagram.fpet1-1.fna.fbcdn.net/v/t51.2885-15/sh0.08/e35/s640x640/117077353_1662910650533960_8533852559924300796_n.jpg?_nc_ht=instagram.fpet1-1.fna.fbcdn.net&_nc_cat=1&_nc_ohc=CchOnXClqC0AX_ppArv&oh=d1c431a93494cd37cb388413571d3479&oe=5F656917',\n  'thumbnail_resources': [{'src': 'https://instagram.fpet1-1.fna.fbcdn.net/v/t51.2885-15/e35/s150x150/117077353_1662910650533960_8533852559924300796_n.jpg?_nc_ht=instagram.fpet1-1.fna.fbcdn.net&_nc_cat=1&_nc_ohc=CchOnXClqC0AX_ppArv&oh=232d87e9464acdf75bb187dfb5aa8c82&oe=5F65B364',\n    'config_width': 150,\n    'config_height': 150},\n   {'src': 'https://instagram.fpet1-1.fna.fbcdn.net/v/t51.2885-15/e35/s240x240/117077353_1662910650533960_8533852559924300796_n.jpg?_nc_ht=instagram.fpet1-1.fna.fbcdn.net&_nc_cat=1&_nc_ohc=CchOnXClqC0AX_ppArv&oh=db35ac48a598b30bb03ffe499f6d5540&oe=5F654A2C',\n    'config_width': 240,\n    'config_height': 240},\n   {'src': 'https://instagram.fpet1-1.fna.fbcdn.net/v/t51.2885-15/e35/s320x320/117077353_1662910650533960_8533852559924300796_n.jpg?_nc_ht=instagram.fpet1-1.fna.fbcdn.net&_nc_cat=1&_nc_ohc=CchOnXClqC0AX_ppArv&oh=cbaadcc7f93ce96785c1727d40f6d747&oe=5F678E75',\n    'config_width': 320,\n    'config_height': 320},\n   {'src': 'https://instagram.fpet1-1.fna.fbcdn.net/v/t51.2885-15/e35/s480x480/117077353_1662910650533960_8533852559924300796_n.jpg?_nc_ht=instagram.fpet1-1.fna.fbcdn.net&_nc_cat=1&_nc_ohc=CchOnXClqC0AX_ppArv&oh=4440de51574c7f7afc8f50c50c0341e4&oe=5F66A6B7',\n    'config_width': 480,\n    'config_height': 480},\n   {'src': 'https://instagram.fpet1-1.fna.fbcdn.net/v/t51.2885-15/sh0.08/e35/s640x640/117077353_1662910650533960_8533852559924300796_n.jpg?_nc_ht=instagram.fpet1-1.fna.fbcdn.net&_nc_cat=1&_nc_ohc=CchOnXClqC0AX_ppArv&oh=d1c431a93494cd37cb388413571d3479&oe=5F656917',\n    'config_width': 640,\n    'config_height': 640}]}}"
     },
     "metadata": {},
     "execution_count": 6
    }
   ],
   "source": [
    "link"
   ]
  },
  {
   "cell_type": "code",
   "execution_count": 7,
   "metadata": {},
   "outputs": [],
   "source": [
    "result = pd.DataFrame()\n",
    "for i in range(len(links)):\n",
    " try:\n",
    "     page = urlopen(links[i]).read()\n",
    "     data = bs(page, 'html.parser')\n",
    "     body = data.find('body')\n",
    "     script = body.find('script')\n",
    "     raw = script.text.strip().replace('window._sharedData =', '').replace(';', '')\n",
    "     json_data = json.loads(raw)\n",
    "     posts = json_data['entry_data']['PostPage'][0]['graphql']\n",
    "     posts= json.dumps(posts)\n",
    "     posts = json.loads(posts)\n",
    "     x = pd.DataFrame.from_dict(json_normalize(posts), orient = 'columns') \n",
    "     x.columns = x.columns.str.replace('shortcode_media.', '')\n",
    "     result = result.append(x)\n",
    " except:\n",
    "     np.nan\n",
    "result = result.drop_duplicates(subset = \"shortcode\")\n",
    "result.index = range(len(result.index))"
   ]
  },
  {
   "cell_type": "code",
   "execution_count": 8,
   "metadata": {},
   "outputs": [
    {
     "output_type": "execute_result",
     "data": {
      "text/plain": "      __typename                   id    shortcode  dimensions.height  \\\n0   GraphSidecar  2376363273859744424  CD6ic6bscKo               1075   \n1     GraphVideo  2378577252291676775  CECZ2ihq4pn                640   \n2     GraphVideo  2377674489214847785  CD_Mlm5KMsp                391   \n3   GraphSidecar  2376942120292559334  CD8mEPLs6nm               1080   \n4     GraphVideo  2376448722158205999  CD614WXK7wv                480   \n5   GraphSidecar  2375534336120413683  CD3l-SAM13z               1080   \n6   GraphSidecar  2374775491567742371  CD05bo8Mu2j               1080   \n7     GraphImage  2374087329014877735  CDyc9jnsA4n               1080   \n8     GraphImage  2373691171541192729  CDxC4tOMZAZ               1080   \n9     GraphImage  2372938936339395514  CDuX2PmM_O6               1080   \n10    GraphImage  2371897504119695267  CDqrDaQsKej               1077   \n11    GraphImage  2370502025951759679  CDltwh8Ms0_               1080   \n\n    dimensions.width gating_info fact_check_overall_rating  \\\n0               1080        None                      None   \n1                640        None                      None   \n2                750        None                      None   \n3               1080        None                      None   \n4                480        None                      None   \n5               1080        None                      None   \n6               1080        None                      None   \n7               1080        None                      None   \n8               1080        None                      None   \n9               1080        None                      None   \n10              1080        None                      None   \n11              1080        None                      None   \n\n   fact_check_information sensitivity_friction_info media_overlay_info  ...  \\\n0                    None                      None               None  ...   \n1                    None                      None               None  ...   \n2                    None                      None               None  ...   \n3                    None                      None               None  ...   \n4                    None                      None               None  ...   \n5                    None                      None               None  ...   \n6                    None                      None               None  ...   \n7                    None                      None               None  ...   \n8                    None                      None               None  ...   \n9                    None                      None               None  ...   \n10                   None                      None               None  ...   \n11                   None                      None               None  ...   \n\n                                            video_url video_view_count  \\\n0                                                 NaN              NaN   \n1   https://instagram.fpet1-1.fna.fbcdn.net/v/t50....        1128253.0   \n2   https://instagram.fpet1-1.fna.fbcdn.net/v/t50....         707701.0   \n3                                                 NaN              NaN   \n4   https://instagram.fpet1-1.fna.fbcdn.net/v/t50....        1169440.0   \n5                                                 NaN              NaN   \n6                                                 NaN              NaN   \n7                                                 NaN              NaN   \n8                                                 NaN              NaN   \n9                                                 NaN              NaN   \n10                                                NaN              NaN   \n11                                                NaN              NaN   \n\n   video_play_count  encoding_status is_published product_type title  \\\n0               NaN              NaN          NaN          NaN   NaN   \n1              None             None         True         feed         \n2              None             None         True         feed         \n3               NaN              NaN          NaN          NaN   NaN   \n4              None             None         True         feed         \n5               NaN              NaN          NaN          NaN   NaN   \n6               NaN              NaN          NaN          NaN   NaN   \n7               NaN              NaN          NaN          NaN   NaN   \n8               NaN              NaN          NaN          NaN   NaN   \n9               NaN              NaN          NaN          NaN   NaN   \n10              NaN              NaN          NaN          NaN   NaN   \n11              NaN              NaN          NaN          NaN   NaN   \n\n    video_duration                                      thumbnail_src  \\\n0              NaN                                                NaN   \n1           59.466  https://instagram.fpet1-1.fna.fbcdn.net/v/t51....   \n2           38.266  https://instagram.fpet1-1.fna.fbcdn.net/v/t51....   \n3              NaN                                                NaN   \n4           58.866  https://instagram.fpet1-1.fna.fbcdn.net/v/t51....   \n5              NaN                                                NaN   \n6              NaN                                                NaN   \n7              NaN                                                NaN   \n8              NaN                                                NaN   \n9              NaN                                                NaN   \n10             NaN                                                NaN   \n11             NaN                                                NaN   \n\n    clips_music_attribution_info  \n0                            NaN  \n1                           None  \n2                           None  \n3                            NaN  \n4                           None  \n5                            NaN  \n6                            NaN  \n7                            NaN  \n8                            NaN  \n9                            NaN  \n10                           NaN  \n11                           NaN  \n\n[12 rows x 71 columns]",
      "text/html": "<div>\n<style scoped>\n    .dataframe tbody tr th:only-of-type {\n        vertical-align: middle;\n    }\n\n    .dataframe tbody tr th {\n        vertical-align: top;\n    }\n\n    .dataframe thead th {\n        text-align: right;\n    }\n</style>\n<table border=\"1\" class=\"dataframe\">\n  <thead>\n    <tr style=\"text-align: right;\">\n      <th></th>\n      <th>__typename</th>\n      <th>id</th>\n      <th>shortcode</th>\n      <th>dimensions.height</th>\n      <th>dimensions.width</th>\n      <th>gating_info</th>\n      <th>fact_check_overall_rating</th>\n      <th>fact_check_information</th>\n      <th>sensitivity_friction_info</th>\n      <th>media_overlay_info</th>\n      <th>...</th>\n      <th>video_url</th>\n      <th>video_view_count</th>\n      <th>video_play_count</th>\n      <th>encoding_status</th>\n      <th>is_published</th>\n      <th>product_type</th>\n      <th>title</th>\n      <th>video_duration</th>\n      <th>thumbnail_src</th>\n      <th>clips_music_attribution_info</th>\n    </tr>\n  </thead>\n  <tbody>\n    <tr>\n      <th>0</th>\n      <td>GraphSidecar</td>\n      <td>2376363273859744424</td>\n      <td>CD6ic6bscKo</td>\n      <td>1075</td>\n      <td>1080</td>\n      <td>None</td>\n      <td>None</td>\n      <td>None</td>\n      <td>None</td>\n      <td>None</td>\n      <td>...</td>\n      <td>NaN</td>\n      <td>NaN</td>\n      <td>NaN</td>\n      <td>NaN</td>\n      <td>NaN</td>\n      <td>NaN</td>\n      <td>NaN</td>\n      <td>NaN</td>\n      <td>NaN</td>\n      <td>NaN</td>\n    </tr>\n    <tr>\n      <th>1</th>\n      <td>GraphVideo</td>\n      <td>2378577252291676775</td>\n      <td>CECZ2ihq4pn</td>\n      <td>640</td>\n      <td>640</td>\n      <td>None</td>\n      <td>None</td>\n      <td>None</td>\n      <td>None</td>\n      <td>None</td>\n      <td>...</td>\n      <td>https://instagram.fpet1-1.fna.fbcdn.net/v/t50....</td>\n      <td>1128253.0</td>\n      <td>None</td>\n      <td>None</td>\n      <td>True</td>\n      <td>feed</td>\n      <td></td>\n      <td>59.466</td>\n      <td>https://instagram.fpet1-1.fna.fbcdn.net/v/t51....</td>\n      <td>None</td>\n    </tr>\n    <tr>\n      <th>2</th>\n      <td>GraphVideo</td>\n      <td>2377674489214847785</td>\n      <td>CD_Mlm5KMsp</td>\n      <td>391</td>\n      <td>750</td>\n      <td>None</td>\n      <td>None</td>\n      <td>None</td>\n      <td>None</td>\n      <td>None</td>\n      <td>...</td>\n      <td>https://instagram.fpet1-1.fna.fbcdn.net/v/t50....</td>\n      <td>707701.0</td>\n      <td>None</td>\n      <td>None</td>\n      <td>True</td>\n      <td>feed</td>\n      <td></td>\n      <td>38.266</td>\n      <td>https://instagram.fpet1-1.fna.fbcdn.net/v/t51....</td>\n      <td>None</td>\n    </tr>\n    <tr>\n      <th>3</th>\n      <td>GraphSidecar</td>\n      <td>2376942120292559334</td>\n      <td>CD8mEPLs6nm</td>\n      <td>1080</td>\n      <td>1080</td>\n      <td>None</td>\n      <td>None</td>\n      <td>None</td>\n      <td>None</td>\n      <td>None</td>\n      <td>...</td>\n      <td>NaN</td>\n      <td>NaN</td>\n      <td>NaN</td>\n      <td>NaN</td>\n      <td>NaN</td>\n      <td>NaN</td>\n      <td>NaN</td>\n      <td>NaN</td>\n      <td>NaN</td>\n      <td>NaN</td>\n    </tr>\n    <tr>\n      <th>4</th>\n      <td>GraphVideo</td>\n      <td>2376448722158205999</td>\n      <td>CD614WXK7wv</td>\n      <td>480</td>\n      <td>480</td>\n      <td>None</td>\n      <td>None</td>\n      <td>None</td>\n      <td>None</td>\n      <td>None</td>\n      <td>...</td>\n      <td>https://instagram.fpet1-1.fna.fbcdn.net/v/t50....</td>\n      <td>1169440.0</td>\n      <td>None</td>\n      <td>None</td>\n      <td>True</td>\n      <td>feed</td>\n      <td></td>\n      <td>58.866</td>\n      <td>https://instagram.fpet1-1.fna.fbcdn.net/v/t51....</td>\n      <td>None</td>\n    </tr>\n    <tr>\n      <th>5</th>\n      <td>GraphSidecar</td>\n      <td>2375534336120413683</td>\n      <td>CD3l-SAM13z</td>\n      <td>1080</td>\n      <td>1080</td>\n      <td>None</td>\n      <td>None</td>\n      <td>None</td>\n      <td>None</td>\n      <td>None</td>\n      <td>...</td>\n      <td>NaN</td>\n      <td>NaN</td>\n      <td>NaN</td>\n      <td>NaN</td>\n      <td>NaN</td>\n      <td>NaN</td>\n      <td>NaN</td>\n      <td>NaN</td>\n      <td>NaN</td>\n      <td>NaN</td>\n    </tr>\n    <tr>\n      <th>6</th>\n      <td>GraphSidecar</td>\n      <td>2374775491567742371</td>\n      <td>CD05bo8Mu2j</td>\n      <td>1080</td>\n      <td>1080</td>\n      <td>None</td>\n      <td>None</td>\n      <td>None</td>\n      <td>None</td>\n      <td>None</td>\n      <td>...</td>\n      <td>NaN</td>\n      <td>NaN</td>\n      <td>NaN</td>\n      <td>NaN</td>\n      <td>NaN</td>\n      <td>NaN</td>\n      <td>NaN</td>\n      <td>NaN</td>\n      <td>NaN</td>\n      <td>NaN</td>\n    </tr>\n    <tr>\n      <th>7</th>\n      <td>GraphImage</td>\n      <td>2374087329014877735</td>\n      <td>CDyc9jnsA4n</td>\n      <td>1080</td>\n      <td>1080</td>\n      <td>None</td>\n      <td>None</td>\n      <td>None</td>\n      <td>None</td>\n      <td>None</td>\n      <td>...</td>\n      <td>NaN</td>\n      <td>NaN</td>\n      <td>NaN</td>\n      <td>NaN</td>\n      <td>NaN</td>\n      <td>NaN</td>\n      <td>NaN</td>\n      <td>NaN</td>\n      <td>NaN</td>\n      <td>NaN</td>\n    </tr>\n    <tr>\n      <th>8</th>\n      <td>GraphImage</td>\n      <td>2373691171541192729</td>\n      <td>CDxC4tOMZAZ</td>\n      <td>1080</td>\n      <td>1080</td>\n      <td>None</td>\n      <td>None</td>\n      <td>None</td>\n      <td>None</td>\n      <td>None</td>\n      <td>...</td>\n      <td>NaN</td>\n      <td>NaN</td>\n      <td>NaN</td>\n      <td>NaN</td>\n      <td>NaN</td>\n      <td>NaN</td>\n      <td>NaN</td>\n      <td>NaN</td>\n      <td>NaN</td>\n      <td>NaN</td>\n    </tr>\n    <tr>\n      <th>9</th>\n      <td>GraphImage</td>\n      <td>2372938936339395514</td>\n      <td>CDuX2PmM_O6</td>\n      <td>1080</td>\n      <td>1080</td>\n      <td>None</td>\n      <td>None</td>\n      <td>None</td>\n      <td>None</td>\n      <td>None</td>\n      <td>...</td>\n      <td>NaN</td>\n      <td>NaN</td>\n      <td>NaN</td>\n      <td>NaN</td>\n      <td>NaN</td>\n      <td>NaN</td>\n      <td>NaN</td>\n      <td>NaN</td>\n      <td>NaN</td>\n      <td>NaN</td>\n    </tr>\n    <tr>\n      <th>10</th>\n      <td>GraphImage</td>\n      <td>2371897504119695267</td>\n      <td>CDqrDaQsKej</td>\n      <td>1077</td>\n      <td>1080</td>\n      <td>None</td>\n      <td>None</td>\n      <td>None</td>\n      <td>None</td>\n      <td>None</td>\n      <td>...</td>\n      <td>NaN</td>\n      <td>NaN</td>\n      <td>NaN</td>\n      <td>NaN</td>\n      <td>NaN</td>\n      <td>NaN</td>\n      <td>NaN</td>\n      <td>NaN</td>\n      <td>NaN</td>\n      <td>NaN</td>\n    </tr>\n    <tr>\n      <th>11</th>\n      <td>GraphImage</td>\n      <td>2370502025951759679</td>\n      <td>CDltwh8Ms0_</td>\n      <td>1080</td>\n      <td>1080</td>\n      <td>None</td>\n      <td>None</td>\n      <td>None</td>\n      <td>None</td>\n      <td>None</td>\n      <td>...</td>\n      <td>NaN</td>\n      <td>NaN</td>\n      <td>NaN</td>\n      <td>NaN</td>\n      <td>NaN</td>\n      <td>NaN</td>\n      <td>NaN</td>\n      <td>NaN</td>\n      <td>NaN</td>\n      <td>NaN</td>\n    </tr>\n  </tbody>\n</table>\n<p>12 rows × 71 columns</p>\n</div>"
     },
     "metadata": {},
     "execution_count": 8
    }
   ],
   "source": [
    "result"
   ]
  },
  {
   "cell_type": "code",
   "execution_count": 12,
   "metadata": {},
   "outputs": [],
   "source": [
    "import os\n",
    "import requests\n",
    "result.index = range(len(result.index))\n",
    "directory = path\n",
    "for i in range(len(result)):\n",
    "    r = requests.get(result['display_url'][i])\n",
    "    with open(directory+result['shortcode'][i]+\".jpg\", 'wb') as f:\n",
    "                    f.write(r.content)"
   ]
  },
  {
   "cell_type": "code",
   "execution_count": 10,
   "metadata": {},
   "outputs": [
    {
     "output_type": "execute_result",
     "data": {
      "text/plain": "0     CD6ic6bscKo\n1     CECZ2ihq4pn\n2     CD_Mlm5KMsp\n3     CD8mEPLs6nm\n4     CD614WXK7wv\n5     CD3l-SAM13z\n6     CD05bo8Mu2j\n7     CDyc9jnsA4n\n8     CDxC4tOMZAZ\n9     CDuX2PmM_O6\n10    CDqrDaQsKej\n11    CDltwh8Ms0_\nName: shortcode, dtype: object"
     },
     "metadata": {},
     "execution_count": 10
    }
   ],
   "source": [
    "result.shortcode"
   ]
  },
  {
   "cell_type": "code",
   "execution_count": null,
   "metadata": {},
   "outputs": [],
   "source": []
  }
 ],
 "metadata": {
  "kernelspec": {
   "display_name": "Python 3.7.3 64-bit ('base': conda)",
   "language": "python",
   "name": "python37364bitbaseconda45dd7ac08a30406eb7020dcb65e59fad"
  },
  "language_info": {
   "codemirror_mode": {
    "name": "ipython",
    "version": 3
   },
   "file_extension": ".py",
   "mimetype": "text/x-python",
   "name": "python",
   "nbconvert_exporter": "python",
   "pygments_lexer": "ipython3",
   "version": "3.7.3-final"
  }
 },
 "nbformat": 4,
 "nbformat_minor": 4
}