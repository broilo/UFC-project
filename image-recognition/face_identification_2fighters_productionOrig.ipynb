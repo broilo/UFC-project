{
 "cells": [
  {
   "cell_type": "code",
   "execution_count": 1,
   "metadata": {
    "colab": {
     "base_uri": "https://localhost:8080/",
     "height": 152
    },
    "colab_type": "code",
    "collapsed": true,
    "id": "4jOQn0AZFaHi",
    "jupyter": {
     "outputs_hidden": true
    },
    "outputId": "a937b9a6-36dd-4fb9-886e-ef7dc5354d5e"
   },
   "outputs": [
    {
     "name": "stdout",
     "output_type": "stream",
     "text": [
      "Defaulting to user installation because normal site-packages is not writeable\n",
      "Requirement already satisfied: mtcnn in /home/broilo/.local/lib/python3.7/site-packages (0.1.0)\n",
      "Collecting opencv-python>=4.1.0\n",
      "  Downloading opencv_python-4.4.0.42-cp37-cp37m-manylinux2014_x86_64.whl (49.4 MB)\n",
      "\u001b[K     |████████████████████████████████| 49.4 MB 101 kB/s eta 0:00:013     |█████████████████████████████   | 44.7 MB 7.1 MB/s eta 0:00:01\n",
      "\u001b[?25hRequirement already satisfied: keras>=2.0.0 in /home/broilo/.local/lib/python3.7/site-packages (from mtcnn) (2.3.1)\n",
      "Requirement already satisfied: numpy>=1.14.5 in /home/broilo/.local/lib/python3.7/site-packages (from opencv-python>=4.1.0->mtcnn) (1.19.1)\n",
      "Requirement already satisfied: scipy>=0.14 in /home/broilo/.local/lib/python3.7/site-packages (from keras>=2.0.0->mtcnn) (1.4.1)\n",
      "Requirement already satisfied: pyyaml in /home/broilo/anaconda3/lib/python3.7/site-packages (from keras>=2.0.0->mtcnn) (5.1.1)\n",
      "Requirement already satisfied: keras-applications>=1.0.6 in /home/broilo/.local/lib/python3.7/site-packages (from keras>=2.0.0->mtcnn) (1.0.8)\n",
      "Requirement already satisfied: keras-preprocessing>=1.0.5 in /home/broilo/.local/lib/python3.7/site-packages (from keras>=2.0.0->mtcnn) (1.1.0)\n",
      "Requirement already satisfied: six>=1.9.0 in /home/broilo/anaconda3/lib/python3.7/site-packages (from keras>=2.0.0->mtcnn) (1.12.0)\n",
      "Requirement already satisfied: h5py in /home/broilo/anaconda3/lib/python3.7/site-packages (from keras>=2.0.0->mtcnn) (2.9.0)\n",
      "Installing collected packages: opencv-python\n",
      "Successfully installed opencv-python-4.4.0.42\n",
      "\u001b[33mWARNING: You are using pip version 20.2.1; however, version 20.2.2 is available.\n",
      "You should consider upgrading via the '/home/broilo/anaconda3/bin/python -m pip install --upgrade pip' command.\u001b[0m\n",
      "Note: you may need to restart the kernel to use updated packages.\n"
     ]
    }
   ],
   "source": [
    "#pip install mtcnn"
   ]
  },
  {
   "cell_type": "code",
   "execution_count": 4,
   "metadata": {
    "colab": {
     "base_uri": "https://localhost:8080/",
     "height": 33
    },
    "colab_type": "code",
    "id": "M3HqaSymDuLM",
    "outputId": "8550de7b-3ba2-4d04-bcc3-c423a65ddf5a"
   },
   "outputs": [],
   "source": [
    "#%tensorflow_version 2.x\n",
    "import tensorflow as tf\n",
    "from tensorflow import keras\n",
    "from keras.models import load_model\n",
    "from mtcnn.mtcnn import MTCNN\n",
    "from os import listdir\n",
    "from os.path import isdir\n",
    "from PIL import Image\n",
    "from matplotlib import pyplot\n",
    "from numpy import savez_compressed\n",
    "from numpy import asarray\n",
    "from numpy import load\n",
    "from numpy import expand_dims\n",
    "from mtcnn.mtcnn import MTCNN\n",
    "from typing import Tuple\n",
    "from typing import List\n",
    "from sklearn.metrics import accuracy_score\n",
    "from sklearn.preprocessing import LabelEncoder\n",
    "from sklearn.preprocessing import Normalizer\n",
    "from sklearn.svm import SVC\n",
    "from random import choice\n",
    "import matplotlib.pyplot as plt\n",
    "import numpy as np\n",
    "import time\n",
    "from PIL import Image\n",
    "import requests\n",
    "from io import BytesIO\n",
    "import pickle\n",
    "#from google.colab import drive\n",
    "#drive.mount('/content/drive')\n"
   ]
  },
  {
   "cell_type": "code",
   "execution_count": 40,
   "metadata": {
    "colab": {},
    "colab_type": "code",
    "id": "5TTaSqzAVPUd"
   },
   "outputs": [],
   "source": [
    "TRAIN_SET_PATH = '/home/broilo/Documents/Drive/UFC-model-tutorial-branch/ufc-project/2-ufc-fighters/train'\n",
    "# '/content/drive/My Drive/UFC-model-tutorial-branch/ufc-project/2-ufc-fighters/train'\n",
    "TESTE_SET_PATH = '/home/broilo/Documents/Drive/UFC-model-tutorial-branch/ufc-project/2-ufc-fighters/test'\n",
    "#' /content/drive/My Drive/UFC-model-tutorial-branch/ufc-project/2-ufc-fighters/test'\n",
    "PATH_TO_LOAD_FACENET_MODEL = '/home/broilo/Documents/Drive/UFC-model-tutorial-branch/ufc-project/FaceNet/model/facenet_keras.h5'\n",
    "# '/content/drive/My Drive/UFC-model-tutorial-branch/ufc-project/FaceNet/model/facenet_keras.h5'\n",
    "UFC_PROJECT_PATH = '/home/broilo/Documents/Drive/UFC-model-tutorial-branch/'\n",
    "# '/content/drive/My Drive/UFC-model-tutorial-branch/'\n",
    "FACES_PATH = '/home/broilo/Documents/Drive/UFC-model-tutorial-branch/ufc-project/2-ufc-fighters/'\n",
    "# '/content/drive/My Drive/UFC-model-tutorial-branch/ufc-project/2-ufc-fighters/'\n",
    "TRAINED_MODEL = \"trained_model.sav\"\n",
    "TRAINED_OUT_ENCODER = \"trained_out_encoder.sav\"\n",
    "URL_TEST = 'https://i.pinimg.com/originals/8b/95/b5/8b95b5db2d2b315dd75ddeddfe388538.jpg'"
   ]
  },
  {
   "cell_type": "code",
   "execution_count": 11,
   "metadata": {
    "colab": {},
    "colab_type": "code",
    "id": "rRX3B2GUFPMh"
   },
   "outputs": [],
   "source": [
    "facenet_model = load_model(PATH_TO_LOAD_FACENET_MODEL, compile = False)"
   ]
  },
  {
   "cell_type": "code",
   "execution_count": 12,
   "metadata": {
    "colab": {},
    "colab_type": "code",
    "id": "YZerNahHcgJq"
   },
   "outputs": [],
   "source": [
    "detector = MTCNN()"
   ]
  },
  {
   "cell_type": "code",
   "execution_count": 13,
   "metadata": {
    "colab": {},
    "colab_type": "code",
    "id": "RjGapCFmF0PK"
   },
   "outputs": [],
   "source": [
    "def extract_image_from_path(filename: str) -> np.ndarray:\n",
    "\t\n",
    "  #file = os.path.join(global_image_path, filename)\n",
    "  image = Image.open(filename).convert('RGB')\n",
    "  pixels = np.asarray(image)\n",
    "  \n",
    "  return pixels"
   ]
  },
  {
   "cell_type": "code",
   "execution_count": 14,
   "metadata": {
    "colab": {},
    "colab_type": "code",
    "id": "om93WX2s7rVu"
   },
   "outputs": [],
   "source": [
    "def extract_face_from_image_array(image_array: np.ndarray) -> np.ndarray:\n",
    "  faces = detector.detect_faces(image_array)\n",
    "  x1, y1, width, height = faces[0]['box']\n",
    "  x1, y1 = abs(x1), abs(y1)\n",
    "  x2, y2 = x1 + width, y1 + height\n",
    "  face = image_array[y1:y2, x1:x2]\n",
    "  \n",
    "  return face"
   ]
  },
  {
   "cell_type": "code",
   "execution_count": 15,
   "metadata": {
    "colab": {},
    "colab_type": "code",
    "id": "Oa26z9Nz7rfP"
   },
   "outputs": [],
   "source": [
    "def resize_extracted_face(image_array: np.ndarray, required_size: Tuple[int, int] = (160, 160)) -> np.ndarray:\n",
    "    image = Image.fromarray(image_array).resize(required_size)\n",
    "    face_array = asarray(image)\n",
    "  \n",
    "    return face_array"
   ]
  },
  {
   "cell_type": "code",
   "execution_count": 16,
   "metadata": {
    "colab": {},
    "colab_type": "code",
    "id": "n3a-2u5b7rpw"
   },
   "outputs": [],
   "source": [
    "def extract_face(filename: str, required_size: Tuple[int, int] = (160, 160)) -> np.ndarray:\n",
    "  image = extract_image_from_path(filename)\n",
    "  face = extract_face_from_image_array(image)\n",
    "  resized_face = resize_extracted_face(face)\n",
    "\n",
    "  return resized_face"
   ]
  },
  {
   "cell_type": "code",
   "execution_count": 17,
   "metadata": {
    "colab": {},
    "colab_type": "code",
    "id": "q27zg2hFG7Ch"
   },
   "outputs": [],
   "source": [
    "def load_faces(directory: str) -> List[np.ndarray]:\n",
    "  \"\"\" Load images and extract faces for all images in a directory \"\"\"\n",
    "\n",
    "  faces = list()\n",
    "\n",
    "  # enumerate files\n",
    "  for filename in listdir(directory):\n",
    "    # path\n",
    "    path = directory + '/' + filename\n",
    "\n",
    "    # get face\n",
    "    face = extract_face(path)\n",
    "\n",
    "    # store\n",
    "    faces.append(face)\n",
    "\n",
    "  return faces"
   ]
  },
  {
   "cell_type": "code",
   "execution_count": 18,
   "metadata": {
    "colab": {},
    "colab_type": "code",
    "id": "_CsYPGl6KjmK"
   },
   "outputs": [],
   "source": [
    "def load_dataset(directory: str) \\\n",
    "      -> (List[np.ndarray], np.ndarray):\n",
    "  \"\"\" Load a dataset that contains one subdir for each class that in turn contains images \"\"\"\n",
    "\t\n",
    "  X, y = list(), list()\n",
    "\t\n",
    "  # enumerate folders, on per class\n",
    "  for subdir in listdir(directory):\n",
    "    # path\n",
    "    path = directory + '/' + subdir + '/'\n",
    "\n",
    "    # skip any files that might be in the dir\n",
    "    if not isdir(path):\n",
    "      continue\n",
    "\n",
    "    # load all faces in the subdirectory\n",
    "    faces = load_faces(path)\n",
    "\n",
    "    # create labels\n",
    "    labels = [subdir for _ in range(len(faces))]\n",
    "\n",
    "    # store\n",
    "    X.extend(faces)\n",
    "    y.extend(labels)\n",
    "\t\n",
    "  return asarray(X), asarray(y)"
   ]
  },
  {
   "cell_type": "code",
   "execution_count": 19,
   "metadata": {
    "colab": {},
    "colab_type": "code",
    "id": "2JUySvscK-cw"
   },
   "outputs": [],
   "source": [
    "def create_train_test_data():\n",
    "\n",
    "    # load train dataset\n",
    "    trainX, trainy = load_dataset(TRAIN_SET_PATH)\n",
    "\n",
    "    # load test dataset\n",
    "    testX, testy = load_dataset(TESTE_SET_PATH)\n",
    "\n",
    "    # save arrays to one file in compressed format\n",
    "    return trainX, trainy, testX, testy"
   ]
  },
  {
   "cell_type": "code",
   "execution_count": 20,
   "metadata": {
    "colab": {},
    "colab_type": "code",
    "id": "UrgtzHNSMjHi"
   },
   "outputs": [],
   "source": [
    "def get_embedding(facenet_model, face_pixels):\n",
    "  \"\"\" Get the face embedding for one face \"\"\"\n",
    "\n",
    "  # scale pixel values\n",
    "  face_pixels = face_pixels.astype('float32')\n",
    "\n",
    "  # standardize pixel values across channels (global)\n",
    "  mean, std = face_pixels.mean(), face_pixels.std()\n",
    "  face_pixels = (face_pixels - mean) / std\n",
    "\n",
    "  # transform face into one sample\n",
    "  samples = expand_dims(face_pixels, axis=0)\n",
    "\n",
    "  # make prediction to get embedding\n",
    "  yhat = facenet_model.predict(samples)\n",
    "\n",
    "  return yhat[0]"
   ]
  },
  {
   "cell_type": "code",
   "execution_count": 21,
   "metadata": {
    "colab": {},
    "colab_type": "code",
    "id": "bXcos888NhYy"
   },
   "outputs": [],
   "source": [
    "def create_embedding_data_set(trainX, trainy, testX, testy):\n",
    "\t# convert each face in the train set to an embedding\n",
    "\tnewTrainX = list()\n",
    "\tfor face_pixels in trainX:\n",
    "\t\tembedding = get_embedding(facenet_model, face_pixels)\n",
    "\t\tnewTrainX.append(embedding)\n",
    "\tnewTrainX = asarray(newTrainX)\n",
    "\n",
    "\t# convert each face in the test set to an embedding\n",
    "\tnewTestX = list()\n",
    "\tfor face_pixels in testX:\n",
    "\t\tembedding = get_embedding(facenet_model, face_pixels)\n",
    "\t\tnewTestX.append(embedding)\n",
    "\tnewTestX = asarray(newTestX)\n",
    "\n",
    "\treturn newTrainX, trainy, newTestX, testy"
   ]
  },
  {
   "cell_type": "code",
   "execution_count": 22,
   "metadata": {
    "colab": {},
    "colab_type": "code",
    "id": "6NZ6xB4hN_NU"
   },
   "outputs": [],
   "source": [
    "def normalize_input_vector(trainX, testX):\n",
    "    # normalize input vectors\n",
    "    in_encoder = Normalizer(norm = 'l2')\n",
    "    trainX = in_encoder.transform(trainX)\n",
    "    testX = in_encoder.transform(testX)\n",
    "\n",
    "    return trainX, testX"
   ]
  },
  {
   "cell_type": "code",
   "execution_count": 23,
   "metadata": {
    "colab": {},
    "colab_type": "code",
    "id": "fNgD9gD_X0Sk"
   },
   "outputs": [],
   "source": [
    "def enconde_targets(trainy, testy):\n",
    "    # label encode targets\n",
    "    out_encoder = LabelEncoder()\n",
    "    out_encoder.fit(trainy)\n",
    "    trainy = out_encoder.transform(trainy)\n",
    "    testy = out_encoder.transform(testy)\n",
    "\n",
    "    return trainy, testy, out_encoder"
   ]
  },
  {
   "cell_type": "code",
   "execution_count": 24,
   "metadata": {
    "colab": {},
    "colab_type": "code",
    "id": "eUWK8Wz2bLJ7"
   },
   "outputs": [],
   "source": [
    "def train_model(trainX, trainy):\n",
    "\n",
    "    # fit model\n",
    "    model = SVC(kernel = 'linear', probability = True)\n",
    "    model.fit(trainX, trainy)\n",
    "\n",
    "    return model"
   ]
  },
  {
   "cell_type": "code",
   "execution_count": 25,
   "metadata": {
    "colab": {},
    "colab_type": "code",
    "id": "0LmS9IHObLTI"
   },
   "outputs": [],
   "source": [
    "def predict_fighters(model):\n",
    "    # predict\n",
    "    yhat_train = model.predict(trainX)\n",
    "    yhat_test = model.predict(testX)\n",
    "\n",
    "    return yhat_train, yhat_test"
   ]
  },
  {
   "cell_type": "code",
   "execution_count": 26,
   "metadata": {
    "colab": {},
    "colab_type": "code",
    "id": "AFNPyn7abLb2"
   },
   "outputs": [],
   "source": [
    "def print_scores(model):\n",
    "    # score\n",
    "    score_train = accuracy_score(trainy, yhat_train)\n",
    "    score_test = accuracy_score(testy, yhat_test)\n",
    "    print(\"Score train: \", score_train)\n",
    "    print(\"Score test: \", score_test)"
   ]
  },
  {
   "cell_type": "code",
   "execution_count": 27,
   "metadata": {
    "colab": {},
    "colab_type": "code",
    "id": "v-QBEP9IzWHq"
   },
   "outputs": [],
   "source": [
    "def get_image_array_from_url(url):\n",
    "    response = requests.get(url)\n",
    "    img = Image.open(BytesIO(response.content))\n",
    "    pixels = np.asarray(img)\n",
    "    return pixels"
   ]
  },
  {
   "cell_type": "code",
   "execution_count": 28,
   "metadata": {
    "colab": {},
    "colab_type": "code",
    "id": "3mt0Q0mD1rkB"
   },
   "outputs": [],
   "source": [
    "def extract_face_from_url(url):\n",
    "    image_array = get_image_array_from_url(url)\n",
    "    face_array = extract_face_from_image_array(image_array)\n",
    "    resized_face_array = resize_extracted_face(face_array)\n",
    "\n",
    "    return resized_face_array"
   ]
  },
  {
   "cell_type": "code",
   "execution_count": 29,
   "metadata": {
    "colab": {},
    "colab_type": "code",
    "id": "-_7tHD5W42co"
   },
   "outputs": [],
   "source": [
    "def normalize_one_array(image_array):\n",
    "    in_encoder = Normalizer(norm = 'l2')\n",
    "    normalized_array = in_encoder.transform(image_array)\n",
    "\n",
    "    return normalized_array"
   ]
  },
  {
   "cell_type": "code",
   "execution_count": 30,
   "metadata": {
    "colab": {},
    "colab_type": "code",
    "id": "NKv3k3xfoMir"
   },
   "outputs": [],
   "source": [
    "def test_model_on_selected_photo(url, model, out_encoder):\n",
    "    face_array = extract_face_from_url(url)\n",
    "    face_embedding = get_embedding(facenet_model, face_array)\n",
    "    face_embedding = expand_dims(face_embedding, axis = 0)\n",
    "    face_embedding_normalized = normalize_one_array(face_embedding)\n",
    "\n",
    "    #sample = expand_dims(face_embedding_normalized, axis = 0)\n",
    "    \n",
    "    yhat_class = model.predict(face_embedding_normalized)\n",
    "    yhat_prob = model.predict_proba(face_embedding_normalized)\n",
    "\n",
    "    #photo_name = out_encoder.inverse_transform([photo_class])\n",
    "\n",
    "    class_index = yhat_class[0]\n",
    "    class_probability = yhat_prob[0,class_index] * 100\n",
    "    predict_names = out_encoder.inverse_transform(yhat_class)\n",
    "\n",
    "    # plot for fun\n",
    "    plt.imshow(face_array)\n",
    "    plt.title(\"Predicted: {0} Probability {1:.3f}%\".format(predict_names[0], class_probability))\n",
    "    plt.show()"
   ]
  },
  {
   "cell_type": "code",
   "execution_count": 31,
   "metadata": {
    "colab": {},
    "colab_type": "code",
    "id": "kn1Nh1QcOma3"
   },
   "outputs": [],
   "source": [
    "def create_embedding_data_set_and_train_model():\n",
    "    trainX, trainy, testX, testy = create_train_test_data()\n",
    "    trainX, trainy, testX, testy = create_embedding_data_set(trainX, trainy, \n",
    "                                                             testX, testy)\n",
    "    trainX, testX = normalize_input_vector(trainX, testX)\n",
    "    trainy, testy, out_encoder = enconde_targets(trainy, testy)\n",
    "\n",
    "    model = train_model(trainX, trainy)\n",
    "\n",
    "    return model, out_encoder"
   ]
  },
  {
   "cell_type": "code",
   "execution_count": 32,
   "metadata": {
    "colab": {},
    "colab_type": "code",
    "id": "o7EUoLXsVC0m"
   },
   "outputs": [],
   "source": [
    "#model, out_encoder = create_embedding_data_set_and_train_model()"
   ]
  },
  {
   "cell_type": "code",
   "execution_count": 33,
   "metadata": {
    "colab": {},
    "colab_type": "code",
    "id": "uDZze_jlpIog"
   },
   "outputs": [],
   "source": [
    "def save_pickle(model, out_encoder):\n",
    "  pickle.dump(model, open(UFC_PROJECT_PATH + TRAINED_MODEL, 'wb'))\n",
    "  pickle.dump(out_encoder, open(UFC_PROJECT_PATH + TRAINED_OUT_ENCODER, 'wb'))"
   ]
  },
  {
   "cell_type": "code",
   "execution_count": 34,
   "metadata": {
    "colab": {},
    "colab_type": "code",
    "id": "RTJzCHHhqxOM"
   },
   "outputs": [],
   "source": [
    "#save_pickle(model, out_encoder)"
   ]
  },
  {
   "cell_type": "code",
   "execution_count": 42,
   "metadata": {
    "colab": {},
    "colab_type": "code",
    "id": "kVJKYq09rLc4"
   },
   "outputs": [],
   "source": [
    "def load_pickle():\n",
    "  load_model = pickle.load(open(UFC_PROJECT_PATH + TRAINED_MODEL, 'rb'))\n",
    "  load_out_encoder = pickle.load(open(UFC_PROJECT_PATH + TRAINED_OUT_ENCODER, 'rb'))\n",
    "\n",
    "  return load_model, load_out_encoder"
   ]
  },
  {
   "cell_type": "code",
   "execution_count": 45,
   "metadata": {
    "colab": {},
    "colab_type": "code",
    "id": "YgEYyXJOro9_"
   },
   "outputs": [],
   "source": [
    "load_model, load_out_encoder = load_pickle()"
   ]
  },
  {
   "cell_type": "code",
   "execution_count": 46,
   "metadata": {
    "colab": {
     "base_uri": "https://localhost:8080/",
     "height": 280
    },
    "colab_type": "code",
    "id": "BXzKL3fXVNZv",
    "outputId": "52b5333d-12f7-4a4e-d566-299e3c114604"
   },
   "outputs": [
    {
     "data": {
      "image/png": "[encoded data removed]",
      "text/plain": [
       "<Figure size 432x288 with 1 Axes>"
      ]
     },
     "metadata": {
      "needs_background": "light"
     },
     "output_type": "display_data"
    }
   ],
   "source": [
    "test_model_on_selected_photo(URL_TEST, load_model, load_out_encoder)"
   ]
  },
  {
   "cell_type": "code",
   "execution_count": null,
   "metadata": {
    "colab": {},
    "colab_type": "code",
    "id": "FXjB5Gj4iJG0"
   },
   "outputs": [],
   "source": []
  }
 ],
 "metadata": {
  "colab": {
   "collapsed_sections": [],
   "name": "face_identification_2fighters_production.ipynb",
   "provenance": []
  },
  "kernelspec": {
   "display_name": "Python 3",
   "language": "python",
   "name": "python3"
  },
  "language_info": {
   "codemirror_mode": {
    "name": "ipython",
    "version": 3
   },
   "file_extension": ".py",
   "mimetype": "text/x-python",
   "name": "python",
   "nbconvert_exporter": "python",
   "pygments_lexer": "ipython3",
   "version": "3.7.3"
  }
 },
 "nbformat": 4,
 "nbformat_minor": 4
}
