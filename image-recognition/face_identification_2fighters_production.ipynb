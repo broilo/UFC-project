{
  "nbformat": 4,
  "nbformat_minor": 0,
  "metadata": {
    "colab": {
      "name": "face_identification_2fighters_production.ipynb",
      "provenance": [],
      "collapsed_sections": []
    },
    "kernelspec": {
      "display_name": "Python 3",
      "language": "python",
      "name": "python3"
    },
    "language_info": {
      "codemirror_mode": {
        "name": "ipython",
        "version": 3
      },
      "file_extension": ".py",
      "mimetype": "text/x-python",
      "name": "python",
      "nbconvert_exporter": "python",
      "pygments_lexer": "ipython3",
      "version": "3.7.3"
    }
  },
  "cells": [
    {
      "cell_type": "code",
      "metadata": {
        "colab_type": "code",
        "id": "4jOQn0AZFaHi",
        "colab": {
          "base_uri": "https://localhost:8080/",
          "height": 218
        },
        "outputId": "2b00b091-faa2-4227-aa73-eda4a34e2607"
      },
      "source": [
        "pip install mtcnn"
      ],
      "execution_count": 1,
      "outputs": [
        {
          "output_type": "stream",
          "text": [
            "Collecting mtcnn\n",
            "\u001b[?25l  Downloading https://files.pythonhosted.org/packages/67/43/abee91792797c609c1bf30f1112117f7a87a713ebaa6ec5201d5555a73ef/mtcnn-0.1.0-py3-none-any.whl (2.3MB)\n",
            "\u001b[K     |████████████████████████████████| 2.3MB 2.8MB/s \n",
            "\u001b[?25hRequirement already satisfied: keras>=2.0.0 in /usr/local/lib/python3.6/dist-packages (from mtcnn) (2.4.3)\n",
            "Requirement already satisfied: opencv-python>=4.1.0 in /usr/local/lib/python3.6/dist-packages (from mtcnn) (4.1.2.30)\n",
            "Requirement already satisfied: scipy>=0.14 in /usr/local/lib/python3.6/dist-packages (from keras>=2.0.0->mtcnn) (1.4.1)\n",
            "Requirement already satisfied: pyyaml in /usr/local/lib/python3.6/dist-packages (from keras>=2.0.0->mtcnn) (3.13)\n",
            "Requirement already satisfied: h5py in /usr/local/lib/python3.6/dist-packages (from keras>=2.0.0->mtcnn) (2.10.0)\n",
            "Requirement already satisfied: numpy>=1.9.1 in /usr/local/lib/python3.6/dist-packages (from keras>=2.0.0->mtcnn) (1.18.5)\n",
            "Requirement already satisfied: six in /usr/local/lib/python3.6/dist-packages (from h5py->keras>=2.0.0->mtcnn) (1.15.0)\n",
            "Installing collected packages: mtcnn\n",
            "Successfully installed mtcnn-0.1.0\n"
          ],
          "name": "stdout"
        }
      ]
    },
    {
      "cell_type": "code",
      "metadata": {
        "colab_type": "code",
        "id": "M3HqaSymDuLM",
        "colab": {
          "base_uri": "https://localhost:8080/",
          "height": 34
        },
        "outputId": "4b3d10ca-669b-4c54-d635-e1a01727867b"
      },
      "source": [
        "%tensorflow_version 2.x\n",
        "import tensorflow as tf\n",
        "from tensorflow import keras\n",
        "from keras.models import load_model\n",
        "import mtcnn\n",
        "from os import listdir\n",
        "from os.path import isdir\n",
        "from PIL import Image\n",
        "from matplotlib import pyplot\n",
        "from numpy import savez_compressed\n",
        "from numpy import asarray\n",
        "from numpy import load\n",
        "from numpy import expand_dims\n",
        "from mtcnn.mtcnn import MTCNN\n",
        "from typing import Tuple\n",
        "from typing import List\n",
        "from sklearn.metrics import accuracy_score\n",
        "from sklearn.preprocessing import LabelEncoder\n",
        "from sklearn.preprocessing import Normalizer\n",
        "from sklearn.svm import SVC\n",
        "from random import choice\n",
        "import matplotlib.pyplot as plt\n",
        "import numpy as np\n",
        "import time\n",
        "from google.colab import drive\n",
        "from PIL import Image\n",
        "import requests\n",
        "from io import BytesIO\n",
        "import pickle\n",
        "from sklearn.model_selection import cross_val_score\n",
        "from sklearn.model_selection import GridSearchCV \n",
        "from sklearn.metrics import confusion_matrix\n",
        "drive.mount('/content/drive')"
      ],
      "execution_count": 102,
      "outputs": [
        {
          "output_type": "stream",
          "text": [
            "Drive already mounted at /content/drive; to attempt to forcibly remount, call drive.mount(\"/content/drive\", force_remount=True).\n"
          ],
          "name": "stdout"
        }
      ]
    },
    {
      "cell_type": "code",
      "metadata": {
        "colab_type": "code",
        "id": "5TTaSqzAVPUd",
        "colab": {}
      },
      "source": [
        "TRAIN_SET_PATH = '/content/drive/My Drive/UFC-model-tutorial-branch/ufc-project/2-ufc-fighters/train'\n",
        "TESTE_SET_PATH = '/content/drive/My Drive/UFC-model-tutorial-branch/ufc-project/2-ufc-fighters/test'\n",
        "PATH_TO_LOAD_FACENET_MODEL = '/content/drive/My Drive/UFC-model-tutorial-branch/ufc-project/FaceNet/model/facenet_keras.h5'\n",
        "FACES_PATH = '/content/drive/My Drive/UFC-model-tutorial-branch/ufc-project/2-ufc-fighters/'"
      ],
      "execution_count": 4,
      "outputs": []
    },
    {
      "cell_type": "code",
      "metadata": {
        "colab_type": "code",
        "id": "rRX3B2GUFPMh",
        "colab": {}
      },
      "source": [
        "facenet_model = load_model(PATH_TO_LOAD_FACENET_MODEL, compile = False)"
      ],
      "execution_count": 5,
      "outputs": []
    },
    {
      "cell_type": "code",
      "metadata": {
        "id": "YZerNahHcgJq",
        "colab_type": "code",
        "colab": {}
      },
      "source": [
        "detector = MTCNN()"
      ],
      "execution_count": 6,
      "outputs": []
    },
    {
      "cell_type": "code",
      "metadata": {
        "colab_type": "code",
        "id": "RjGapCFmF0PK",
        "colab": {}
      },
      "source": [
        "def extract_image_from_path(filename: str) -> np.ndarray:\n",
        "\t\n",
        "  #file = os.path.join(global_image_path, filename)\n",
        "  image = Image.open(filename).convert('RGB')\n",
        "  pixels = np.asarray(image)\n",
        "  \n",
        "  return pixels"
      ],
      "execution_count": 7,
      "outputs": []
    },
    {
      "cell_type": "code",
      "metadata": {
        "id": "om93WX2s7rVu",
        "colab_type": "code",
        "colab": {}
      },
      "source": [
        "def extract_face_from_image_array(image_array: np.ndarray) -> np.ndarray:\n",
        "  faces = detector.detect_faces(image_array)\n",
        "  x1, y1, width, height = faces[0]['box']\n",
        "  x1, y1 = abs(x1), abs(y1)\n",
        "  x2, y2 = x1 + width, y1 + height\n",
        "  face = image_array[y1:y2, x1:x2]\n",
        "  \n",
        "  return face"
      ],
      "execution_count": 8,
      "outputs": []
    },
    {
      "cell_type": "code",
      "metadata": {
        "id": "Oa26z9Nz7rfP",
        "colab_type": "code",
        "colab": {}
      },
      "source": [
        "def resize_extracted_face(image_array: np.ndarray, required_size: Tuple[int, int] = (160, 160)) -> np.ndarray:\n",
        "    image = Image.fromarray(image_array).resize(required_size)\n",
        "    face_array = asarray(image)\n",
        "  \n",
        "    return face_array"
      ],
      "execution_count": 9,
      "outputs": []
    },
    {
      "cell_type": "code",
      "metadata": {
        "id": "n3a-2u5b7rpw",
        "colab_type": "code",
        "colab": {}
      },
      "source": [
        "def extract_face(filename: str, required_size: Tuple[int, int] = (160, 160)) -> np.ndarray:\n",
        "  image = extract_image_from_path(filename)\n",
        "  face = extract_face_from_image_array(image)\n",
        "  resized_face = resize_extracted_face(face)\n",
        "\n",
        "  return resized_face"
      ],
      "execution_count": 10,
      "outputs": []
    },
    {
      "cell_type": "code",
      "metadata": {
        "colab_type": "code",
        "id": "q27zg2hFG7Ch",
        "colab": {}
      },
      "source": [
        "def load_faces(directory: str) -> List[np.ndarray]:\n",
        "  \"\"\" Load images and extract faces for all images in a directory \"\"\"\n",
        "\n",
        "  faces = list()\n",
        "\n",
        "  # enumerate files\n",
        "  for filename in listdir(directory):\n",
        "    # path\n",
        "    path = directory + '/' + filename\n",
        "\n",
        "    # get face\n",
        "    face = extract_face(path)\n",
        "\n",
        "    # store\n",
        "    faces.append(face)\n",
        "\n",
        "  return faces"
      ],
      "execution_count": 11,
      "outputs": []
    },
    {
      "cell_type": "code",
      "metadata": {
        "colab_type": "code",
        "id": "_CsYPGl6KjmK",
        "colab": {}
      },
      "source": [
        "def load_dataset(directory: str) \\\n",
        "      -> (List[np.ndarray], np.ndarray):\n",
        "  \"\"\" Load a dataset that contains one subdir for each class that in turn contains images \"\"\"\n",
        "\t\n",
        "  X, y = list(), list()\n",
        "\t\n",
        "  # enumerate folders, on per class\n",
        "  for subdir in listdir(directory):\n",
        "    # path\n",
        "    path = directory + '/' + subdir + '/'\n",
        "\n",
        "    # skip any files that might be in the dir\n",
        "    if not isdir(path):\n",
        "      continue\n",
        "\n",
        "    # load all faces in the subdirectory\n",
        "    faces = load_faces(path)\n",
        "\n",
        "    # create labels\n",
        "    labels = [subdir for _ in range(len(faces))]\n",
        "\n",
        "    # store\n",
        "    X.extend(faces)\n",
        "    y.extend(labels)\n",
        "\t\n",
        "  return asarray(X), asarray(y)"
      ],
      "execution_count": 12,
      "outputs": []
    },
    {
      "cell_type": "code",
      "metadata": {
        "colab_type": "code",
        "id": "2JUySvscK-cw",
        "colab": {}
      },
      "source": [
        "def create_train_test_data():\n",
        "\n",
        "    # load train dataset\n",
        "    trainX, trainy = load_dataset(TRAIN_SET_PATH)\n",
        "\n",
        "    # load test dataset\n",
        "    testX, testy = load_dataset(TESTE_SET_PATH)\n",
        "\n",
        "    # save arrays to one file in compressed format\n",
        "    return trainX, trainy, testX, testy"
      ],
      "execution_count": 13,
      "outputs": []
    },
    {
      "cell_type": "code",
      "metadata": {
        "colab_type": "code",
        "id": "UrgtzHNSMjHi",
        "colab": {}
      },
      "source": [
        "def get_embedding(facenet_model, face_pixels):\n",
        "  \"\"\" Get the face embedding for one face \"\"\"\n",
        "\n",
        "  # scale pixel values\n",
        "  face_pixels = face_pixels.astype('float32')\n",
        "\n",
        "  # standardize pixel values across channels (global)\n",
        "  mean, std = face_pixels.mean(), face_pixels.std()\n",
        "  face_pixels = (face_pixels - mean) / std\n",
        "\n",
        "  # transform face into one sample\n",
        "  samples = expand_dims(face_pixels, axis=0)\n",
        "\n",
        "  # make prediction to get embedding\n",
        "  yhat = facenet_model.predict(samples)\n",
        "\n",
        "  return yhat[0]"
      ],
      "execution_count": 14,
      "outputs": []
    },
    {
      "cell_type": "code",
      "metadata": {
        "colab_type": "code",
        "id": "bXcos888NhYy",
        "colab": {}
      },
      "source": [
        "def create_embedding_data_set(trainX, trainy, testX, testy):\n",
        "\t# convert each face in the train set to an embedding\n",
        "\tnewTrainX = list()\n",
        "\tfor face_pixels in trainX:\n",
        "\t\tembedding = get_embedding(facenet_model, face_pixels)\n",
        "\t\tnewTrainX.append(embedding)\n",
        "\tnewTrainX = asarray(newTrainX)\n",
        "\n",
        "\t# convert each face in the test set to an embedding\n",
        "\tnewTestX = list()\n",
        "\tfor face_pixels in testX:\n",
        "\t\tembedding = get_embedding(facenet_model, face_pixels)\n",
        "\t\tnewTestX.append(embedding)\n",
        "\tnewTestX = asarray(newTestX)\n",
        "\n",
        "\treturn newTrainX, trainy, newTestX, testy"
      ],
      "execution_count": 15,
      "outputs": []
    },
    {
      "cell_type": "code",
      "metadata": {
        "colab_type": "code",
        "id": "6NZ6xB4hN_NU",
        "colab": {}
      },
      "source": [
        "def normalize_input_vector(trainX, testX):\n",
        "    # normalize input vectors\n",
        "    in_encoder = Normalizer(norm = 'l2')\n",
        "    trainX = in_encoder.transform(trainX)\n",
        "    testX = in_encoder.transform(testX)\n",
        "\n",
        "    return trainX, testX"
      ],
      "execution_count": 16,
      "outputs": []
    },
    {
      "cell_type": "code",
      "metadata": {
        "id": "fNgD9gD_X0Sk",
        "colab_type": "code",
        "colab": {}
      },
      "source": [
        "def enconde_targets(trainy, testy):\n",
        "    # label encode targets\n",
        "    out_encoder = LabelEncoder()\n",
        "    out_encoder.fit(trainy)\n",
        "    trainy = out_encoder.transform(trainy)\n",
        "    testy = out_encoder.transform(testy)\n",
        "\n",
        "    return trainy, testy, out_encoder"
      ],
      "execution_count": 17,
      "outputs": []
    },
    {
      "cell_type": "code",
      "metadata": {
        "id": "eUWK8Wz2bLJ7",
        "colab_type": "code",
        "colab": {}
      },
      "source": [
        "def train_model(trainX, trainy):\n",
        "\n",
        "    # fit model\n",
        "    model = SVC(kernel = 'linear', probability = True)\n",
        "    model.fit(trainX, trainy)\n",
        "\n",
        "    return model"
      ],
      "execution_count": 18,
      "outputs": []
    },
    {
      "cell_type": "code",
      "metadata": {
        "id": "0LmS9IHObLTI",
        "colab_type": "code",
        "colab": {}
      },
      "source": [
        "def predict_fighters(model, testX):\n",
        "    # predict\n",
        "    yhat_test = model.predict(testX)\n",
        "\n",
        "    return yhat_test"
      ],
      "execution_count": 95,
      "outputs": []
    },
    {
      "cell_type": "code",
      "metadata": {
        "id": "v-QBEP9IzWHq",
        "colab_type": "code",
        "colab": {}
      },
      "source": [
        "def get_image_array_from_url(url):\n",
        "    response = requests.get(url)\n",
        "    img = Image.open(BytesIO(response.content))\n",
        "    pixels = np.asarray(img)\n",
        "    return pixels"
      ],
      "execution_count": 21,
      "outputs": []
    },
    {
      "cell_type": "code",
      "metadata": {
        "id": "3mt0Q0mD1rkB",
        "colab_type": "code",
        "colab": {}
      },
      "source": [
        "def extract_face_from_url(url):\n",
        "    image_array = get_image_array_from_url(url)\n",
        "    face_array = extract_face_from_image_array(image_array)\n",
        "    resized_face_array = resize_extracted_face(face_array)\n",
        "\n",
        "    return resized_face_array"
      ],
      "execution_count": 22,
      "outputs": []
    },
    {
      "cell_type": "code",
      "metadata": {
        "id": "-_7tHD5W42co",
        "colab_type": "code",
        "colab": {}
      },
      "source": [
        "def normalize_one_array(image_array):\n",
        "    in_encoder = Normalizer(norm = 'l2')\n",
        "    normalized_array = in_encoder.transform(image_array)\n",
        "\n",
        "    return normalized_array"
      ],
      "execution_count": 23,
      "outputs": []
    },
    {
      "cell_type": "code",
      "metadata": {
        "id": "NKv3k3xfoMir",
        "colab_type": "code",
        "colab": {}
      },
      "source": [
        "def test_model_on_selected_photo(url, model, out_encoder):\n",
        "    face_array = extract_face_from_url(url)\n",
        "    face_embedding = get_embedding(facenet_model, face_array)\n",
        "    face_embedding = expand_dims(face_embedding, axis = 0)\n",
        "    face_embedding_normalized = normalize_one_array(face_embedding)\n",
        "\n",
        "    #sample = expand_dims(face_embedding_normalized, axis = 0)\n",
        "    \n",
        "    yhat_class = model.predict(face_embedding_normalized)\n",
        "    yhat_prob = model.predict_proba(face_embedding_normalized)\n",
        "\n",
        "    #photo_name = out_encoder.inverse_transform([photo_class])\n",
        "\n",
        "    class_index = yhat_class[0]\n",
        "    class_probability = yhat_prob[0,class_index] * 100\n",
        "    predict_names = out_encoder.inverse_transform(yhat_class)\n",
        "\n",
        "    # plot for fun\n",
        "    plt.imshow(face_array)\n",
        "    plt.title(\"Predicted: {0} Probability {1:.3f}\".format(predict_names[0], class_probability))\n",
        "    plt.show()\n",
        "   "
      ],
      "execution_count": 24,
      "outputs": []
    },
    {
      "cell_type": "code",
      "metadata": {
        "colab_type": "code",
        "id": "kn1Nh1QcOma3",
        "colab": {}
      },
      "source": [
        "def create_embedding_data_set_and_train_model():\n",
        "    trainX, trainy, testX, testy = create_train_test_data()\n",
        "    trainX, trainy, testX, testy = create_embedding_data_set(trainX, trainy, \n",
        "                                                             testX, testy)\n",
        "    trainX, testX = normalize_input_vector(trainX, testX)\n",
        "    trainy, testy, out_encoder = enconde_targets(trainy, testy)\n",
        "\n",
        "    model = train_model(trainX, trainy)\n",
        "\n",
        "    return model, out_encoder"
      ],
      "execution_count": 25,
      "outputs": []
    },
    {
      "cell_type": "code",
      "metadata": {
        "id": "o7EUoLXsVC0m",
        "colab_type": "code",
        "colab": {}
      },
      "source": [
        "def crate_data_set_for_hyperparameter_tuning():\n",
        "    trainX, trainy, testX, testy = create_train_test_data()\n",
        "    trainX, trainy, testX, testy = create_embedding_data_set(trainX, trainy, \n",
        "                                                             testX, testy)\n",
        "    trainX, testX = normalize_input_vector(trainX, testX)\n",
        "    trainy, testy, out_encoder = enconde_targets(trainy, testy)\n",
        "\n",
        "    return trainX, trainy, testX, testy, out_encoder"
      ],
      "execution_count": 32,
      "outputs": []
    },
    {
      "cell_type": "code",
      "metadata": {
        "id": "KiTqtu7ucP48",
        "colab_type": "code",
        "colab": {}
      },
      "source": [
        "def training_evaluation(trainX, trainy, cv=10, score='accuracy'):\n",
        "    scores = cross_val_score(SVC(kernel = 'linear'), trainX, trainy,\n",
        "    scoring=score, cv=cv)\n",
        "    print(\"Scores:\", scores)\n",
        "    print(\"Mean:\", scores.mean())\n",
        "    print(\"Standard deviation:\", scores.std())"
      ],
      "execution_count": 90,
      "outputs": []
    },
    {
      "cell_type": "code",
      "metadata": {
        "id": "tVe5gfxakcVs",
        "colab_type": "code",
        "colab": {}
      },
      "source": [
        "def fine_tune_model(trainX, trainy, cv=5):\n",
        "    param_grid = {'C': [0.1, 1, 10, 100, 1000],  \n",
        "              'gamma': ['auto','scale'], \n",
        "              'kernel': ['linear', 'poly', 'rbf', 'sigmoid']}  \n",
        "  \n",
        "    grid = GridSearchCV(SVC(), param_grid, refit = True, verbose = 1, \n",
        "                        return_train_score=True, cv=cv) \n",
        "  \n",
        "    # fitting the model for grid search \n",
        "    grid.fit(trainX, trainy)\n",
        "    \n",
        "    return grid.best_estimator_"
      ],
      "execution_count": 93,
      "outputs": []
    },
    {
      "cell_type": "code",
      "metadata": {
        "id": "YILU0BMDSOAj",
        "colab_type": "code",
        "colab": {}
      },
      "source": [
        "def model_accuracy(model, testX, testy, out_encoder):\n",
        "    yhat = predict_fighters(model, testX)\n",
        "    print(confusion_matrix(testy, yhat))\n",
        "    print()\n",
        "    print(out_encoder.classes_)"
      ],
      "execution_count": 111,
      "outputs": []
    },
    {
      "cell_type": "code",
      "metadata": {
        "id": "eFLrZpZ6TvEW",
        "colab_type": "code",
        "colab": {}
      },
      "source": [
        "def load_pickle():\n",
        "  load_model = pickle.load(open(UFC_PROJECT_PATH + TRAINED_MODEL, 'rb'))\n",
        "  load_out_encoder = pickle.load(open(UFC_PROJECT_PATH + TRAINED_OUT_ENCODER, 'rb'))\n",
        "\n",
        "  return load_model, load_out_encoder"
      ],
      "execution_count": 112,
      "outputs": []
    },
    {
      "cell_type": "code",
      "metadata": {
        "id": "JLHgvxp2Tvhf",
        "colab_type": "code",
        "colab": {}
      },
      "source": [
        "def save_pickle(model, out_encoder):\n",
        "  pickle.dump(model, open(UFC_PROJECT_PATH + TRAINED_MODEL, 'wb'))\n",
        "  pickle.dump(out_encoder, open(UFC_PROJECT_PATH + TRAINED_OUT_ENCODER, 'wb'))"
      ],
      "execution_count": 113,
      "outputs": []
    },
    {
      "cell_type": "code",
      "metadata": {
        "id": "C02o5ptrjFJF",
        "colab_type": "code",
        "colab": {
          "base_uri": "https://localhost:8080/",
          "height": 281
        },
        "outputId": "a3d9c11b-c189-4fec-c0eb-0af60cf7d511"
      },
      "source": [
        "test_model_on_selected_photo('https://encrypted-tbn0.gstatic.com/images?q=tbn%3AANd9GcSBbmAcIU9L8RqR0c4UhIzvPNxb04vNVj0MQw&usqp=CAU', loaded_model, out_encoder)"
      ],
      "execution_count": 82,
      "outputs": [
        {
          "output_type": "display_data",
          "data": {
            "image/png": "[encoded data removed]",
            "text/plain": [
              "<Figure size 432x288 with 1 Axes>"
            ]
          },
          "metadata": {
            "tags": [],
            "needs_background": "light"
          }
        }
      ]
    }
  ]
}